{
 "cells": [
  {
   "cell_type": "markdown",
   "metadata": {},
   "source": [
    "1. Import Library yang diperlukan"
   ]
  },
  {
   "cell_type": "code",
   "execution_count": 9,
   "metadata": {},
   "outputs": [],
   "source": [
    "import pandas as pd\n",
    "from sklearn.preprocessing import LabelEncoder"
   ]
  },
  {
   "cell_type": "markdown",
   "metadata": {},
   "source": [
    "2. Tampilkan seluruh nilai dari dataset"
   ]
  },
  {
   "cell_type": "code",
   "execution_count": 2,
   "metadata": {},
   "outputs": [
    {
     "name": "stdout",
     "output_type": "stream",
     "text": [
      "       UserID    Kelamin  Usia  EstimasiGaji  Beli\n",
      "0    15624510       Laki    19         19000     0\n",
      "1    15810944       Laki    35         20000     0\n",
      "2    15668575  Perempuan    26         43000     0\n",
      "3    15603246  Perempuan    27         57000     0\n",
      "4    15804002       Laki    19         76000     0\n",
      "..        ...        ...   ...           ...   ...\n",
      "395  15691863  Perempuan    46         41000     1\n",
      "396  15706071       Laki    51         23000     1\n",
      "397  15654296  Perempuan    50         20000     1\n",
      "398  15755018       Laki    36         33000     0\n",
      "399  15594041  Perempuan    49         36000     1\n",
      "\n",
      "[400 rows x 5 columns]\n"
     ]
    }
   ],
   "source": [
    "data = pd.read_csv(\"Iklan_sosmed.csv\")\n",
    "\n",
    "print(data)"
   ]
  },
  {
   "cell_type": "markdown",
   "metadata": {},
   "source": [
    "3. Lakukan EDA secukupnya"
   ]
  },
  {
   "cell_type": "code",
   "execution_count": 4,
   "metadata": {},
   "outputs": [
    {
     "name": "stdout",
     "output_type": "stream",
     "text": [
      "     UserID    Kelamin  Usia  EstimasiGaji  Beli\n",
      "0  15624510       Laki    19         19000     0\n",
      "1  15810944       Laki    35         20000     0\n",
      "2  15668575  Perempuan    26         43000     0\n",
      "3  15603246  Perempuan    27         57000     0\n",
      "4  15804002       Laki    19         76000     0\n",
      "       UserID    Kelamin  Usia  EstimasiGaji  Beli\n",
      "395  15691863  Perempuan    46         41000     1\n",
      "396  15706071       Laki    51         23000     1\n",
      "397  15654296  Perempuan    50         20000     1\n",
      "398  15755018       Laki    36         33000     0\n",
      "399  15594041  Perempuan    49         36000     1\n",
      "<class 'pandas.core.frame.DataFrame'>\n",
      "RangeIndex: 400 entries, 0 to 399\n",
      "Data columns (total 5 columns):\n",
      " #   Column        Non-Null Count  Dtype \n",
      "---  ------        --------------  ----- \n",
      " 0   UserID        400 non-null    int64 \n",
      " 1   Kelamin       400 non-null    object\n",
      " 2   Usia          400 non-null    int64 \n",
      " 3   EstimasiGaji  400 non-null    int64 \n",
      " 4   Beli          400 non-null    int64 \n",
      "dtypes: int64(4), object(1)\n",
      "memory usage: 15.8+ KB\n",
      "None\n",
      "UserID          0\n",
      "Kelamin         0\n",
      "Usia            0\n",
      "EstimasiGaji    0\n",
      "Beli            0\n",
      "dtype: int64\n",
      "             UserID        Usia   EstimasiGaji        Beli\n",
      "count  4.000000e+02  400.000000     400.000000  400.000000\n",
      "mean   1.569154e+07   37.655000   69742.500000    0.357500\n",
      "std    7.165832e+04   10.482877   34096.960282    0.479864\n",
      "min    1.556669e+07   18.000000   15000.000000    0.000000\n",
      "25%    1.562676e+07   29.750000   43000.000000    0.000000\n",
      "50%    1.569434e+07   37.000000   70000.000000    0.000000\n",
      "75%    1.575036e+07   46.000000   88000.000000    1.000000\n",
      "max    1.581524e+07   60.000000  150000.000000    1.000000\n"
     ]
    }
   ],
   "source": [
    "print(data.head())\n",
    "print(data.tail())\n",
    "print(data.info())\n",
    "print(data.isnull().sum())\n",
    "print(data.describe())"
   ]
  },
  {
   "cell_type": "markdown",
   "metadata": {},
   "source": [
    "4. Cek apakah ada nilai yang hilang pada dataset dan isi nilai yang hilang pada 'EstimasiGaji' dengan median dari kolom tersebut."
   ]
  },
  {
   "cell_type": "code",
   "execution_count": 7,
   "metadata": {},
   "outputs": [
    {
     "name": "stdout",
     "output_type": "stream",
     "text": [
      "0\n",
      "0\n"
     ]
    }
   ],
   "source": [
    "print(data['EstimasiGaji'].isnull().sum())\n",
    "\n",
    "data['EstimasiGaji'].fillna(data['EstimasiGaji'].median(), inplace=True)\n",
    "\n",
    "print(data['EstimasiGaji'].isnull().sum())"
   ]
  },
  {
   "cell_type": "markdown",
   "metadata": {},
   "source": [
    "5. Lakukan encoding pada kolom 'Kelamin'"
   ]
  },
  {
   "cell_type": "code",
   "execution_count": 10,
   "metadata": {},
   "outputs": [
    {
     "name": "stdout",
     "output_type": "stream",
     "text": [
      "       UserID  Kelamin  Usia  EstimasiGaji  Beli\n",
      "0    15624510        0    19         19000     0\n",
      "1    15810944        0    35         20000     0\n",
      "2    15668575        1    26         43000     0\n",
      "3    15603246        1    27         57000     0\n",
      "4    15804002        0    19         76000     0\n",
      "..        ...      ...   ...           ...   ...\n",
      "395  15691863        1    46         41000     1\n",
      "396  15706071        0    51         23000     1\n",
      "397  15654296        1    50         20000     1\n",
      "398  15755018        0    36         33000     0\n",
      "399  15594041        1    49         36000     1\n",
      "\n",
      "[400 rows x 5 columns]\n"
     ]
    }
   ],
   "source": [
    "le = LabelEncoder()\n",
    "data['Kelamin'] = le.fit_transform(data['Kelamin'])\n",
    "\n",
    "print(data)"
   ]
  },
  {
   "cell_type": "markdown",
   "metadata": {},
   "source": [
    "6. Standarisasi kolom 'Usia' dan 'EstimasiGaji' menggunakan StandardScaler."
   ]
  },
  {
   "cell_type": "code",
   "execution_count": 1,
   "metadata": {},
   "outputs": [
    {
     "name": "stdout",
     "output_type": "stream",
     "text": [
      "       UserID    Kelamin      Usia  EstimasiGaji  Beli\n",
      "0    15624510       Laki -1.781797     -1.490046     0\n",
      "1    15810944       Laki -0.253587     -1.460681     0\n",
      "2    15668575  Perempuan -1.113206     -0.785290     0\n",
      "3    15603246  Perempuan -1.017692     -0.374182     0\n",
      "4    15804002       Laki -1.781797      0.183751     0\n",
      "..        ...        ...       ...           ...   ...\n",
      "395  15691863  Perempuan  0.797057     -0.844019     1\n",
      "396  15706071       Laki  1.274623     -1.372587     1\n",
      "397  15654296  Perempuan  1.179110     -1.460681     1\n",
      "398  15755018       Laki -0.158074     -1.078938     0\n",
      "399  15594041  Perempuan  1.083596     -0.990844     1\n",
      "\n",
      "[400 rows x 5 columns]\n"
     ]
    }
   ],
   "source": [
    "import pandas as pd\n",
    "from sklearn.preprocessing import StandardScaler\n",
    "\n",
    "data = pd.read_csv(\"Iklan_sosmed.csv\")\n",
    "\n",
    "scaler = StandardScaler()\n",
    "data[['Usia', 'EstimasiGaji']] = scaler.fit_transform(data[['Usia', 'EstimasiGaji']])\n",
    "\n",
    "print(data)"
   ]
  },
  {
   "cell_type": "markdown",
   "metadata": {},
   "source": [
    "7. Urutkan dataset berdasarkan 'EstimasiGaji' dari yang terendah ke tertinggi."
   ]
  },
  {
   "cell_type": "code",
   "execution_count": 2,
   "metadata": {},
   "outputs": [
    {
     "name": "stdout",
     "output_type": "stream",
     "text": [
      "       UserID    Kelamin      Usia  EstimasiGaji  Beli\n",
      "92   15809823       Laki -1.113206     -1.607506     0\n",
      "43   15792008       Laki -0.731153     -1.607506     0\n",
      "155  15610140  Perempuan -0.635640     -1.607506     0\n",
      "150  15679651  Perempuan -1.113206     -1.607506     0\n",
      "32   15573452  Perempuan -1.590771     -1.578141     0\n",
      "..        ...        ...       ...           ...   ...\n",
      "168  15789815       Laki -0.826666      2.298020     1\n",
      "103  15675949  Perempuan -0.444614      2.327385     1\n",
      "240  15701537       Laki  0.415005      2.327385     1\n",
      "211  15735878       Laki  1.370136      2.356750     1\n",
      "7    15694829  Perempuan -0.540127      2.356750     1\n",
      "\n",
      "[400 rows x 5 columns]\n"
     ]
    }
   ],
   "source": [
    "sorted_data = data.sort_values(by='EstimasiGaji')\n",
    "\n",
    "print(sorted_data)"
   ]
  },
  {
   "cell_type": "markdown",
   "metadata": {},
   "source": [
    "8. Simpan dataset yang telah dibersihkan dan diproses ke file baru bernama 'Iklan_sosmed_clean.csv'"
   ]
  },
  {
   "cell_type": "code",
   "execution_count": 3,
   "metadata": {},
   "outputs": [],
   "source": [
    "data.to_csv(\"Iklan_sosmed_clean.csv\", index=False)"
   ]
  }
 ],
 "metadata": {
  "kernelspec": {
   "display_name": "Python 3",
   "language": "python",
   "name": "python3"
  },
  "language_info": {
   "codemirror_mode": {
    "name": "ipython",
    "version": 3
   },
   "file_extension": ".py",
   "mimetype": "text/x-python",
   "name": "python",
   "nbconvert_exporter": "python",
   "pygments_lexer": "ipython3",
   "version": "3.12.0"
  }
 },
 "nbformat": 4,
 "nbformat_minor": 2
}
